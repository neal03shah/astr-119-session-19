{
 "cells": [
  {
   "cell_type": "markdown",
   "id": "ded2c194",
   "metadata": {},
   "source": [
    "# A visualization of a astrophysical simulation.\n",
    "There are two files, \"density_projection.dat\" and \"energy_projection.dat\", that contain the gas density and internal energy from a slice through a cosmological simulation. Let's read them in and make a three color image."
   ]
  },
  {
   "cell_type": "code",
   "execution_count": null,
   "id": "79087906",
   "metadata": {},
   "outputs": [],
   "source": [
    "%matplotlib inline\n",
    "import matplotlib.pyplot as plt\n",
    "import matplotlib.colors as colors\n",
    "import numpy as np"
   ]
  },
  {
   "cell_type": "markdown",
   "id": "5e4b6084",
   "metadata": {},
   "source": [
    "### Read in the density file.\n",
    "THe file is a 512x512 projection of a 512^3 dataset. We can read it in using numpy's fromfile() function and reshape it into 512x512 using numpy's reshape()."
   ]
  },
  {
   "cell_type": "code",
   "execution_count": null,
   "id": "3db060f4",
   "metadata": {},
   "outputs": [],
   "source": [
    "fname = \"density_projection.dat\"\n",
    "d = np.fromfile(fname,dtype=np.float32)\n",
    "d = np.reshape(d,(512,512))"
   ]
  },
  {
   "cell_type": "markdown",
   "id": "d1c17802",
   "metadata": {},
   "source": [
    "### Repeat for the energy file."
   ]
  },
  {
   "cell_type": "code",
   "execution_count": null,
   "id": "dbe4b0d9",
   "metadata": {},
   "outputs": [],
   "source": [
    "fname = \"energy_projection.dat\"\n",
    "energy = np.fromfile(fname,dtype=np.float32)\n",
    "energy = np.reshape(energy,(512,512))"
   ]
  },
  {
   "cell_type": "markdown",
   "id": "b40ab03d",
   "metadata": {},
   "source": [
    "### Let's plot them using the default color map."
   ]
  },
  {
   "cell_type": "code",
   "execution_count": null,
   "id": "debf444e",
   "metadata": {},
   "outputs": [],
   "source": [
    "d_log = np.log10(d)\n",
    "f = plt.figure(figsize=(7,7))\n",
    "plt.imshow(d_log)"
   ]
  },
  {
   "cell_type": "code",
   "execution_count": null,
   "id": "00fb54e4",
   "metadata": {},
   "outputs": [],
   "source": [
    "e_log = np.log10(energy)\n",
    "f = plt.figure(figsize=(7,7))\n",
    "plt.imshow(e_log)"
   ]
  },
  {
   "cell_type": "markdown",
   "id": "ca049b3b",
   "metadata": {},
   "source": [
    "### Making a 3-color image.\n",
    "We can combine the density and energy maps into a three color image using the HSV color space.\\\n",
    "Here H=[0,1], corresponds to the color wheel going from red->red through yellow, green blue, and purple. V=[0,1] is the intensity of the image. S=[0,1] is the saturation of the color, with 0 being white (for V=1) or black (for V=0) and 1 being a deep color./\n",
    "\n",
    "We will map density to V and S, and energy to H."
   ]
  },
  {
   "cell_type": "code",
   "execution_count": null,
   "id": "b7f5f6ca",
   "metadata": {},
   "outputs": [],
   "source": [
    "d_min = d_log.min()\n",
    "d_max = d_log.max()\n",
    "\n",
    "v = (d_log - d_min)/(d_max-d_min)\n",
    "s = 1.0 - v"
   ]
  },
  {
   "cell_type": "code",
   "execution_count": null,
   "id": "9a40cbdd",
   "metadata": {},
   "outputs": [],
   "source": [
    "e_min = e_log.min()\n",
    "e_max = e_log.max()\n",
    "\n",
    "h = 0.8 - 0.2*(e_log - e_min)/(e_max-e_min)"
   ]
  },
  {
   "cell_type": "markdown",
   "id": "aeabe7af",
   "metadata": {},
   "source": [
    "### Now we have to make a HSV image, and then convert to RGB."
   ]
  },
  {
   "cell_type": "code",
   "execution_count": null,
   "id": "90663aaf",
   "metadata": {},
   "outputs": [],
   "source": [
    "hsv_image = np.zeros((512,512,3))\n",
    "\n",
    "hsv_image[:,:,0] = h\n",
    "hsv_image[:,:,1] = s\n",
    "hsv_image[:,:,2] = v\n",
    "\n",
    "rgb_image = colors.hsv_to_rgb(hsv_image)"
   ]
  },
  {
   "cell_type": "markdown",
   "id": "a3d60f0d",
   "metadata": {},
   "source": [
    "### Now let's see the 3-color image."
   ]
  },
  {
   "cell_type": "code",
   "execution_count": null,
   "id": "3f091c75",
   "metadata": {},
   "outputs": [],
   "source": [
    "f = plt.figure(figsize=(7,7))\n",
    "plt.imshow(rgb_image)"
   ]
  },
  {
   "cell_type": "code",
   "execution_count": null,
   "id": "d28bd071",
   "metadata": {},
   "outputs": [],
   "source": []
  }
 ],
 "metadata": {
  "kernelspec": {
   "display_name": "Python 3 (ipykernel)",
   "language": "python",
   "name": "python3"
  },
  "language_info": {
   "codemirror_mode": {
    "name": "ipython",
    "version": 3
   },
   "file_extension": ".py",
   "mimetype": "text/x-python",
   "name": "python",
   "nbconvert_exporter": "python",
   "pygments_lexer": "ipython3",
   "version": "3.9.7"
  }
 },
 "nbformat": 4,
 "nbformat_minor": 5
}
